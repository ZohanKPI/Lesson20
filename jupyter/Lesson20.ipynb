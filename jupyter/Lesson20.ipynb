{
 "cells": [
  {
   "cell_type": "markdown",
   "id": "9a31cbe3",
   "metadata": {},
   "source": [
    "| Year | Rank |        Company         | Revenue | Profit |\n",
    "|------|------|------------------------|---------|--------|\n",
    "| 1955 | 229  | Norton                 | 135.0   | N.A    |\n",
    "| 1955 | 291  | Schlitt Brewing        | 100.0   | N.A    |\n",
    "| 1955 | 295  | Pacific Vegetable Oil  | 97.9    | N.A    |\n",
    "| 1955 | 297  | Liebmann Breweries     | 96.0    | N.A    |\n",
    "| 1955 | 353  | Minneapolis-Moline     | 77.4    | N.A    |"
   ]
  },
  {
   "cell_type": "code",
   "execution_count": 4,
   "id": "496a8156",
   "metadata": {},
   "outputs": [
    {
     "name": "stdout",
     "output_type": "stream",
     "text": [
      "1.04 ms ± 0 ns per loop (mean ± std. dev. of 1 run, 1 loop each)\n",
      "1.66 ms ± 0 ns per loop (mean ± std. dev. of 1 run, 1 loop each)\n",
      "1.05 ms ± 0 ns per loop (mean ± std. dev. of 1 run, 1 loop each)\n"
     ]
    },
    {
     "data": {
      "text/plain": [
       "<TimeitResult : 1.05 ms ± 0 ns per loop (mean ± std. dev. of 1 run, 1 loop each)>"
      ]
     },
     "execution_count": 4,
     "metadata": {},
     "output_type": "execute_result"
    }
   ],
   "source": [
    "from random_word import RandomWords\n",
    "import random\n",
    "int_list = []\n",
    "float_list = []\n",
    "str_list = []\n",
    "w = RandomWords()\n",
    "\n",
    "def partition(array, low, high):\n",
    "    pivot = array[high]\n",
    "    i = low - 1\n",
    "    for j in range(low, high):\n",
    "        if array[j] <= pivot:\n",
    "            i = i + 1\n",
    "            (array[i], array[j]) = (array[j], array[i])\n",
    "    (array[i + 1], array[high]) = (array[high], array[i + 1])\n",
    "    return i + 1\n",
    "\n",
    "def quickSort(array, low, high):\n",
    "    if low < high:\n",
    "        pi = partition(array, low, high)\n",
    "        quickSort(array, low, pi - 1)\n",
    "        quickSort(array, pi + 1, high)\n",
    "\n",
    "for i in range(500):\n",
    "    int_list.append(random.randint(0,1000))\n",
    "    float_list.append(random.uniform(0.1, 100.0))\n",
    "    str_list.append(w.get_random_word())\n",
    "\n",
    "size = len(int_list)\n",
    "\n",
    "%timeit -n 1 -r 1 -o quickSort(int_list[:], 0, size - 1)\n",
    "%timeit -n 1 -r 1 -o quickSort(float_list[:], 0, size - 1)\n",
    "%timeit -n 1 -r 1 -o quickSort(str_list[:], 0, size - 1)"
   ]
  },
  {
   "cell_type": "code",
   "execution_count": null,
   "id": "05013e1e",
   "metadata": {},
   "outputs": [],
   "source": []
  }
 ],
 "metadata": {
  "kernelspec": {
   "display_name": "Python 3 (ipykernel)",
   "language": "python",
   "name": "python3"
  },
  "language_info": {
   "codemirror_mode": {
    "name": "ipython",
    "version": 3
   },
   "file_extension": ".py",
   "mimetype": "text/x-python",
   "name": "python",
   "nbconvert_exporter": "python",
   "pygments_lexer": "ipython3",
   "version": "3.9.7"
  }
 },
 "nbformat": 4,
 "nbformat_minor": 5
}
